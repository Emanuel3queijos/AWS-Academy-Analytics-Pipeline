{
  "cells": [
    {
      "cell_type": "markdown",
      "metadata": {
        "id": "XNQIkJMS6LOm"
      },
      "source": [
        "# Inicializar bibliotecas"
      ]
    },
    {
      "cell_type": "code",
      "execution_count": null,
      "metadata": {
        "id": "pdf2osN86LOp",
        "outputId": "d1b67284-2a50-4b53-a5b5-e01fb57e2e05"
      },
      "outputs": [
        {
          "name": "stdout",
          "output_type": "stream",
          "text": [
            "Requirement already satisfied: asttokens==2.4.1 in z:\\python\\python312\\lib\\site-packages (from -r requirements.txt (line 1)) (2.4.1)\n",
            "Requirement already satisfied: colorama==0.4.6 in z:\\python\\python312\\lib\\site-packages (from -r requirements.txt (line 2)) (0.4.6)\n",
            "Requirement already satisfied: comm==0.2.2 in z:\\python\\python312\\lib\\site-packages (from -r requirements.txt (line 3)) (0.2.2)\n",
            "Requirement already satisfied: debugpy==1.8.5 in z:\\python\\python312\\lib\\site-packages (from -r requirements.txt (line 4)) (1.8.5)\n",
            "Requirement already satisfied: decorator==5.1.1 in z:\\python\\python312\\lib\\site-packages (from -r requirements.txt (line 5)) (5.1.1)\n",
            "Requirement already satisfied: executing==2.1.0 in z:\\python\\python312\\lib\\site-packages (from -r requirements.txt (line 6)) (2.1.0)\n",
            "Requirement already satisfied: Faker==28.4.1 in z:\\python\\python312\\lib\\site-packages (from -r requirements.txt (line 7)) (28.4.1)\n",
            "Requirement already satisfied: ipykernel==6.29.5 in z:\\python\\python312\\lib\\site-packages (from -r requirements.txt (line 8)) (6.29.5)\n",
            "Requirement already satisfied: ipython==8.27.0 in z:\\python\\python312\\lib\\site-packages (from -r requirements.txt (line 9)) (8.27.0)\n",
            "Requirement already satisfied: jedi==0.19.1 in z:\\python\\python312\\lib\\site-packages (from -r requirements.txt (line 10)) (0.19.1)\n",
            "Requirement already satisfied: jupyter_client==8.6.2 in z:\\python\\python312\\lib\\site-packages (from -r requirements.txt (line 11)) (8.6.2)\n",
            "Requirement already satisfied: jupyter_core==5.7.2 in z:\\python\\python312\\lib\\site-packages (from -r requirements.txt (line 12)) (5.7.2)\n",
            "Requirement already satisfied: matplotlib-inline==0.1.7 in z:\\python\\python312\\lib\\site-packages (from -r requirements.txt (line 13)) (0.1.7)\n",
            "Requirement already satisfied: nest-asyncio==1.6.0 in z:\\python\\python312\\lib\\site-packages (from -r requirements.txt (line 14)) (1.6.0)\n",
            "Requirement already satisfied: packaging==24.1 in z:\\python\\python312\\lib\\site-packages (from -r requirements.txt (line 15)) (24.1)\n",
            "Requirement already satisfied: parso==0.8.4 in z:\\python\\python312\\lib\\site-packages (from -r requirements.txt (line 16)) (0.8.4)\n",
            "Requirement already satisfied: platformdirs==4.3.3 in z:\\python\\python312\\lib\\site-packages (from -r requirements.txt (line 17)) (4.3.3)\n",
            "Requirement already satisfied: prompt_toolkit==3.0.47 in z:\\python\\python312\\lib\\site-packages (from -r requirements.txt (line 18)) (3.0.47)\n",
            "Requirement already satisfied: psutil==6.0.0 in z:\\python\\python312\\lib\\site-packages (from -r requirements.txt (line 19)) (6.0.0)\n",
            "Requirement already satisfied: psycopg2==2.9.9 in z:\\python\\python312\\lib\\site-packages (from -r requirements.txt (line 20)) (2.9.9)\n",
            "Requirement already satisfied: pure_eval==0.2.3 in z:\\python\\python312\\lib\\site-packages (from -r requirements.txt (line 21)) (0.2.3)\n",
            "Requirement already satisfied: Pygments==2.18.0 in z:\\python\\python312\\lib\\site-packages (from -r requirements.txt (line 22)) (2.18.0)\n",
            "Requirement already satisfied: python-dateutil==2.9.0.post0 in z:\\python\\python312\\lib\\site-packages (from -r requirements.txt (line 23)) (2.9.0.post0)\n",
            "Requirement already satisfied: pywin32==306 in z:\\python\\python312\\lib\\site-packages (from -r requirements.txt (line 24)) (306)\n",
            "Requirement already satisfied: pyzmq==26.2.0 in z:\\python\\python312\\lib\\site-packages (from -r requirements.txt (line 25)) (26.2.0)\n",
            "Requirement already satisfied: six==1.16.0 in z:\\python\\python312\\lib\\site-packages (from -r requirements.txt (line 26)) (1.16.0)\n",
            "Requirement already satisfied: stack-data==0.6.3 in z:\\python\\python312\\lib\\site-packages (from -r requirements.txt (line 27)) (0.6.3)\n",
            "Requirement already satisfied: tornado==6.4.1 in z:\\python\\python312\\lib\\site-packages (from -r requirements.txt (line 28)) (6.4.1)\n",
            "Requirement already satisfied: traitlets==5.14.3 in z:\\python\\python312\\lib\\site-packages (from -r requirements.txt (line 29)) (5.14.3)\n",
            "Requirement already satisfied: wcwidth==0.2.13 in z:\\python\\python312\\lib\\site-packages (from -r requirements.txt (line 30)) (0.2.13)\n"
          ]
        },
        {
          "name": "stderr",
          "output_type": "stream",
          "text": [
            "\n",
            "[notice] A new release of pip is available: 24.0 -> 24.3.1\n",
            "[notice] To update, run: python.exe -m pip install --upgrade pip\n"
          ]
        }
      ],
      "source": [
        "!wget https://emanuel3queijos.github.io/AWS-University-ETL/python_scripts/requirements.txt -O requirements.txt\n",
        "!sed -i '/pywin32/d' requirements.txt\n",
        "!pip install -r requirements.txt\n"
      ]
    },
    {
      "cell_type": "markdown",
      "metadata": {
        "id": "iGdNNXL-6LOq"
      },
      "source": [
        "## Script de População do banco"
      ]
    },
    {
      "cell_type": "code",
      "execution_count": null,
      "metadata": {
        "id": "2d_m3N0a6LOr"
      },
      "outputs": [],
      "source": [
        "import psycopg2\n",
        "from faker import Faker\n",
        "import random\n",
        "\n",
        "# Função para popular tabelas\n",
        "def populate_tables():\n",
        "# Tentando se conectar no banco da AWS\n",
        "    try:\n",
        "        conn = psycopg2.connect(host=\"db-manu-etluniversityproject-instance.c44vb5orqds7.us-east-1.rds.amazonaws.com\",\n",
        "                                dbname=\"AWS-University-ETL-DB\",\n",
        "                                user=\"postgres\",\n",
        "                                password=\"Emanu0710**\",\n",
        "                                port=5432)\n",
        "        cur = conn.cursor()\n",
        "        fake = Faker()\n",
        "\n",
        "        # Definição dos departamentos\n",
        "        departamentos = [\n",
        "            ('Engenharia de Software', 'Departamento focado no desenvolvimento de software e tecnologias relacionadas.'),\n",
        "            ('Ciência da Computação', 'Departamento que aborda a teoria da computação, algoritmos e inteligência artificial.'),\n",
        "            ('Sistemas de Informação', 'Departamento que lida com sistemas computacionais e suas aplicações em organizações.'),\n",
        "            ('Análise e Desenvolvimento de Sistemas', 'Departamento voltado para o desenvolvimento e análise de sistemas computacionais.'),\n",
        "            ('Redes de Computadores', 'Departamento dedicado à infraestrutura e comunicação de redes de computadores.'),\n",
        "            ('Inteligência Artificial', 'Departamento focado em IA, aprendizado de máquina e suas aplicações.'),\n",
        "            ('Matemática Aplicada', 'Departamento com ênfase em técnicas matemáticas e suas aplicações em computação.')\n",
        "        ]\n",
        "\n",
        "        # Inserir departamentos\n",
        "        for nome_departamento, descricao in departamentos:\n",
        "            cur.execute(\"\"\"\n",
        "                INSERT INTO tb_departamento (nome_departamento, descricao)\n",
        "                VALUES (%s, %s)\n",
        "                \"\"\", (nome_departamento, descricao))\n",
        "\n",
        "        # Definição dos cursos e descrições\n",
        "        cursos = [\n",
        "            ('Engenharia de Software', 'Curso sobre desenvolvimento de software.'),\n",
        "            ('Ciência da Computação', 'Curso sobre fundamentos de computação.'),\n",
        "            ('Sistemas de Informação', 'Curso sobre TI e gestão.'),\n",
        "            ('Análise e Desenvolvimento de Sistemas', 'Curso sobre desenvolvimento de sistemas.'),\n",
        "            ('Redes de Computadores', 'Curso sobre redes e comunicação.'),\n",
        "            ('Inteligência Artificial', 'Curso sobre IA e aprendizado de máquina.')\n",
        "        ]\n",
        "\n",
        "        # Inserir cursos\n",
        "        for nome_curso, descricao in cursos:\n",
        "            cur.execute(\"\"\"\n",
        "                INSERT INTO tb_curso (nome, descricao)\n",
        "                VALUES (%s, %s)\n",
        "                \"\"\", (nome_curso, descricao))\n",
        "\n",
        "        # Definição das disciplinas e créditos\n",
        "        disciplinas = [\n",
        "            ('Fundamentos de Programação', 5),\n",
        "            ('Estruturas de Dados e Algoritmos', 4),\n",
        "            ('Banco de Dados', 4),\n",
        "            ('Engenharia de Requisitos', 3)\n",
        "        ]\n",
        "\n",
        "        # Inserir disciplinas\n",
        "        for nome_disciplina, creditos in disciplinas:\n",
        "            cur.execute(\"\"\"\n",
        "                INSERT INTO tb_disciplina (nome, creditos)\n",
        "                VALUES (%s, %s)\n",
        "                \"\"\", (nome_disciplina, creditos))\n",
        "\n",
        "        # População de alunos e matrícula\n",
        "        for _ in range(10000):  # Definindo a quantidade de alunos(rodei umas 3 vezes ent tem 30 mil no csv?)\n",
        "            nome = fake.name()\n",
        "            data_nascimento = fake.date_of_birth(minimum_age=18, maximum_age=40)\n",
        "            email = fake.email()\n",
        "            cur.execute(\"\"\"\n",
        "                INSERT INTO tb_aluno (nome, data_nascimento, email)\n",
        "                VALUES (%s, %s, %s)\n",
        "                RETURNING id_aluno\n",
        "                \"\"\", (nome, data_nascimento, email))\n",
        "\n",
        "            id_aluno = cur.fetchone()[0]\n",
        "            id_curso = random.randint(1, len(cursos))\n",
        "            data_matricula = fake.date_this_year()\n",
        "            cur.execute(\"\"\"\n",
        "                INSERT INTO tb_matricula (id_aluno, id_curso, data_matricula)\n",
        "                VALUES (%s, %s, %s)\n",
        "                \"\"\", (id_aluno, id_curso, data_matricula))\n",
        "\n",
        "            # Inscrição e turma\n",
        "            id_disciplina = random.randint(1, len(disciplinas))\n",
        "            data_inscricao = fake.date_this_year()\n",
        "            cur.execute(\"\"\"\n",
        "                INSERT INTO tb_inscricao (id_aluno, id_disciplina, data_inscricao)\n",
        "                VALUES (%s, %s, %s)\n",
        "                \"\"\", (id_aluno, id_disciplina, data_inscricao))\n",
        "\n",
        "        # Inserir turmas\n",
        "        for id_disciplina in range(1, len(disciplinas) + 1):\n",
        "            for ano in [2023, 2024]:\n",
        "                for semestre in [1, 2]:\n",
        "                    cur.execute(\"\"\"\n",
        "                        INSERT INTO tb_turma (id_disciplina, ano, semestre)\n",
        "                        VALUES (%s, %s, %s)\n",
        "                        \"\"\", (id_disciplina, ano, semestre))\n",
        "\n",
        "        # Associar alunos a turmas\n",
        "        for turma_id in range(1, 10):  # Para teste, associamos alunos em 10 turmas\n",
        "            alunos_turma = random.sample(range(1, 101), random.randint(5, 10))\n",
        "            for id_aluno in alunos_turma:\n",
        "                status = random.choice(['Ativo', 'Concluído'])\n",
        "                cur.execute(\"\"\"\n",
        "                    INSERT INTO tb_turma_aluno (id_turma, id_aluno, status)\n",
        "                    VALUES (%s, %s, %s)\n",
        "                    \"\"\", (turma_id, id_aluno, status))\n",
        "\n",
        "        conn.commit()\n",
        "        cur.close()\n",
        "        print(\"Dados inseridos com sucesso.\")\n",
        "    except (Exception, psycopg2.DatabaseError) as error:\n",
        "        print(f\"Erro ao inserir dados: {error}\")\n",
        "    finally:\n",
        "        if conn is not None:\n",
        "            conn.close()\n",
        "\n"
      ]
    },
    {
      "cell_type": "code",
      "execution_count": null,
      "metadata": {
        "id": "TqjXPgUk6LOs",
        "outputId": "f3261202-1055-4887-e6fa-8f8faf2e8e77"
      },
      "outputs": [
        {
          "name": "stdout",
          "output_type": "stream",
          "text": [
            "Erro ao criar tabelas: ERRO:  relação \"tb_aluno\" já existe\n",
            "\n"
          ]
        }
      ],
      "source": [
        "# Criar as tabelas\n",
        "create_tables()\n"
      ]
    },
    {
      "cell_type": "code",
      "execution_count": null,
      "metadata": {
        "id": "RRJ65L-J6LOt",
        "outputId": "b6d73a23-057f-4e50-9740-5c0b16273216"
      },
      "outputs": [
        {
          "name": "stdout",
          "output_type": "stream",
          "text": [
            "Tabelas limpas com sucesso\n"
          ]
        }
      ],
      "source": [
        "# Limpar as tabelas\n",
        "def clean_tables():\n",
        "    try:\n",
        "        conn = psycopg2.connect(host=\"localhost\", dbname=\"gestao_universitaria_ETL\", user=\"postgres\", password=\"0710\", port=5432)\n",
        "        cur = conn.cursor()\n",
        "        truncate_sql = \"\"\"TRUNCATE TABLE tb_turma_aluno, tb_inscricao, tb_matricula, tb_turma, tb_disciplina, tb_curso, tb_aluno RESTART IDENTITY CASCADE;\"\"\"\n",
        "        cur.execute(truncate_sql)\n",
        "        conn.commit()\n",
        "        print(\"Tabelas limpas com sucesso\")\n",
        "        cur.close()\n",
        "\n",
        "    except (Exception, psycopg2.DatabaseError) as error:\n",
        "        print(f\"Erro ao truncar tabelas: {error}\")\n",
        "\n",
        "    finally:\n",
        "        if conn is not None:\n",
        "            conn.close()\n",
        "\n",
        "clean_tables()"
      ]
    },
    {
      "cell_type": "code",
      "execution_count": null,
      "metadata": {
        "id": "J-LbmDZU6LOu",
        "outputId": "4c154d99-c6b6-40e8-d452-ef815ea0bff0"
      },
      "outputs": [
        {
          "name": "stdout",
          "output_type": "stream",
          "text": [
            "Dados exportados com sucesso.\n"
          ]
        }
      ],
      "source": [
        "\n",
        "def export_to_csv():\n",
        "    try:\n",
        "        conn = psycopg2.connect(host=\"localhost\", dbname=\"gestao_universitaria_ETL\", user=\"postgres\", password=\"0710\", port=5432)\n",
        "        cur = conn.cursor()\n",
        "\n",
        "        tables = [\"tb_aluno\", \"tb_curso\", \"tb_disciplina\", \"tb_turma\", \"tb_matricula\", \"tb_inscricao\", \"tb_turma_aluno\"]\n",
        "        for table in tables:\n",
        "            with open(f'{table}.csv', 'w') as f:\n",
        "                cur.copy_expert(f\"COPY {table} TO STDOUT WITH CSV HEADER\", f)\n",
        "\n",
        "        cur.close()\n",
        "        print(\"Dados exportados com sucesso.\")\n",
        "    except (Exception, psycopg2.DatabaseError) as error:\n",
        "        print(f\"Erro ao exportar dados: {error}\")\n",
        "    finally:\n",
        "        if conn is not None:\n",
        "            conn.close()\n",
        "\n",
        "\n",
        "#Export tables\n",
        "export_to_csv()\n"
      ]
    },
    {
      "cell_type": "code",
      "execution_count": null,
      "metadata": {
        "id": "zPWOMLwc6LOu"
      },
      "outputs": [],
      "source": []
    }
  ],
  "metadata": {
    "kernelspec": {
      "display_name": "Python 3 (ipykernel)",
      "language": "python",
      "name": "python3"
    },
    "language_info": {
      "codemirror_mode": {
        "name": "ipython",
        "version": 3
      },
      "file_extension": ".py",
      "mimetype": "text/x-python",
      "name": "python",
      "nbconvert_exporter": "python",
      "pygments_lexer": "ipython3",
      "version": "3.12.4"
    },
    "colab": {
      "provenance": []
    }
  },
  "nbformat": 4,
  "nbformat_minor": 0
}