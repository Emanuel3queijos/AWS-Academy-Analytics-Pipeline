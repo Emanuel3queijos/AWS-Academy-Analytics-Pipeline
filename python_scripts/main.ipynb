{
  "cells": [
    {
      "cell_type": "markdown",
      "metadata": {
        "id": "XNQIkJMS6LOm"
      },
      "source": [
        "# Inicializar bibliotecas"
      ]
    },
    {
      "cell_type": "code",
      "execution_count": 1,
      "metadata": {
        "colab": {
          "base_uri": "https://localhost:8080/",
          "height": 1000
        },
        "id": "pdf2osN86LOp",
        "outputId": "289ede53-45cc-4e47-9bae-52aa2e5b9623"
      },
      "outputs": [
        {
          "output_type": "stream",
          "name": "stdout",
          "text": [
            "--2024-11-09 03:20:10--  https://emanuel3queijos.github.io/AWS-University-ETL/python_scripts/requirements.txt\n",
            "Resolving emanuel3queijos.github.io (emanuel3queijos.github.io)... 185.199.111.153, 185.199.110.153, 185.199.108.153, ...\n",
            "Connecting to emanuel3queijos.github.io (emanuel3queijos.github.io)|185.199.111.153|:443... connected.\n",
            "HTTP request sent, awaiting response... 200 OK\n",
            "Length: 691 [text/plain]\n",
            "Saving to: ‘requirements.txt’\n",
            "\n",
            "requirements.txt    100%[===================>]     691  --.-KB/s    in 0s      \n",
            "\n",
            "2024-11-09 03:20:10 (35.0 MB/s) - ‘requirements.txt’ saved [691/691]\n",
            "\n",
            "Collecting asttokens==2.4.1 (from -r requirements.txt (line 1))\n",
            "  Downloading asttokens-2.4.1-py2.py3-none-any.whl.metadata (5.2 kB)\n",
            "Collecting colorama==0.4.6 (from -r requirements.txt (line 2))\n",
            "  Downloading colorama-0.4.6-py2.py3-none-any.whl.metadata (17 kB)\n",
            "Collecting comm==0.2.2 (from -r requirements.txt (line 3))\n",
            "  Downloading comm-0.2.2-py3-none-any.whl.metadata (3.7 kB)\n",
            "Collecting debugpy==1.8.5 (from -r requirements.txt (line 4))\n",
            "  Downloading debugpy-1.8.5-cp310-cp310-manylinux_2_17_x86_64.manylinux2014_x86_64.whl.metadata (1.1 kB)\n",
            "Collecting decorator==5.1.1 (from -r requirements.txt (line 5))\n",
            "  Downloading decorator-5.1.1-py3-none-any.whl.metadata (4.0 kB)\n",
            "Collecting executing==2.1.0 (from -r requirements.txt (line 6))\n",
            "  Downloading executing-2.1.0-py2.py3-none-any.whl.metadata (8.9 kB)\n",
            "Collecting Faker==28.4.1 (from -r requirements.txt (line 7))\n",
            "  Downloading Faker-28.4.1-py3-none-any.whl.metadata (15 kB)\n",
            "Collecting ipykernel==6.29.5 (from -r requirements.txt (line 8))\n",
            "  Downloading ipykernel-6.29.5-py3-none-any.whl.metadata (6.3 kB)\n",
            "Collecting ipython==8.27.0 (from -r requirements.txt (line 9))\n",
            "  Downloading ipython-8.27.0-py3-none-any.whl.metadata (5.0 kB)\n",
            "Collecting jedi==0.19.1 (from -r requirements.txt (line 10))\n",
            "  Downloading jedi-0.19.1-py2.py3-none-any.whl.metadata (22 kB)\n",
            "Collecting jupyter_client==8.6.2 (from -r requirements.txt (line 11))\n",
            "  Downloading jupyter_client-8.6.2-py3-none-any.whl.metadata (8.3 kB)\n",
            "Requirement already satisfied: jupyter_core==5.7.2 in /usr/local/lib/python3.10/dist-packages (from -r requirements.txt (line 12)) (5.7.2)\n",
            "Requirement already satisfied: matplotlib-inline==0.1.7 in /usr/local/lib/python3.10/dist-packages (from -r requirements.txt (line 13)) (0.1.7)\n",
            "Requirement already satisfied: nest-asyncio==1.6.0 in /usr/local/lib/python3.10/dist-packages (from -r requirements.txt (line 14)) (1.6.0)\n",
            "Requirement already satisfied: packaging==24.1 in /usr/local/lib/python3.10/dist-packages (from -r requirements.txt (line 15)) (24.1)\n",
            "Requirement already satisfied: parso==0.8.4 in /usr/local/lib/python3.10/dist-packages (from -r requirements.txt (line 16)) (0.8.4)\n",
            "Collecting platformdirs==4.3.3 (from -r requirements.txt (line 17))\n",
            "  Downloading platformdirs-4.3.3-py3-none-any.whl.metadata (11 kB)\n",
            "Collecting prompt_toolkit==3.0.47 (from -r requirements.txt (line 18))\n",
            "  Downloading prompt_toolkit-3.0.47-py3-none-any.whl.metadata (6.4 kB)\n",
            "Collecting psutil==6.0.0 (from -r requirements.txt (line 19))\n",
            "  Downloading psutil-6.0.0-cp36-abi3-manylinux_2_12_x86_64.manylinux2010_x86_64.manylinux_2_17_x86_64.manylinux2014_x86_64.whl.metadata (21 kB)\n",
            "Collecting psycopg2==2.9.9 (from -r requirements.txt (line 20))\n",
            "  Downloading psycopg2-2.9.9.tar.gz (384 kB)\n",
            "\u001b[2K     \u001b[90m━━━━━━━━━━━━━━━━━━━━━━━━━━━━━━━━━━━━━━━━\u001b[0m \u001b[32m384.9/384.9 kB\u001b[0m \u001b[31m8.1 MB/s\u001b[0m eta \u001b[36m0:00:00\u001b[0m\n",
            "\u001b[?25h  Preparing metadata (setup.py) ... \u001b[?25l\u001b[?25hdone\n",
            "Collecting pure_eval==0.2.3 (from -r requirements.txt (line 21))\n",
            "  Downloading pure_eval-0.2.3-py3-none-any.whl.metadata (6.3 kB)\n",
            "Requirement already satisfied: Pygments==2.18.0 in /usr/local/lib/python3.10/dist-packages (from -r requirements.txt (line 22)) (2.18.0)\n",
            "Collecting python-dateutil==2.9.0.post0 (from -r requirements.txt (line 23))\n",
            "  Downloading python_dateutil-2.9.0.post0-py2.py3-none-any.whl.metadata (8.4 kB)\n",
            "Collecting pyzmq==26.2.0 (from -r requirements.txt (line 24))\n",
            "  Downloading pyzmq-26.2.0-cp310-cp310-manylinux_2_28_x86_64.whl.metadata (6.2 kB)\n",
            "Requirement already satisfied: six==1.16.0 in /usr/local/lib/python3.10/dist-packages (from -r requirements.txt (line 25)) (1.16.0)\n",
            "Collecting stack-data==0.6.3 (from -r requirements.txt (line 26))\n",
            "  Downloading stack_data-0.6.3-py3-none-any.whl.metadata (18 kB)\n",
            "Collecting tornado==6.4.1 (from -r requirements.txt (line 27))\n",
            "  Downloading tornado-6.4.1-cp38-abi3-manylinux_2_5_x86_64.manylinux1_x86_64.manylinux_2_17_x86_64.manylinux2014_x86_64.whl.metadata (2.5 kB)\n",
            "Collecting traitlets==5.14.3 (from -r requirements.txt (line 28))\n",
            "  Downloading traitlets-5.14.3-py3-none-any.whl.metadata (10 kB)\n",
            "Requirement already satisfied: wcwidth==0.2.13 in /usr/local/lib/python3.10/dist-packages (from -r requirements.txt (line 29)) (0.2.13)\n",
            "Requirement already satisfied: exceptiongroup in /usr/local/lib/python3.10/dist-packages (from ipython==8.27.0->-r requirements.txt (line 9)) (1.2.2)\n",
            "Requirement already satisfied: typing-extensions>=4.6 in /usr/local/lib/python3.10/dist-packages (from ipython==8.27.0->-r requirements.txt (line 9)) (4.12.2)\n",
            "Requirement already satisfied: pexpect>4.3 in /usr/local/lib/python3.10/dist-packages (from ipython==8.27.0->-r requirements.txt (line 9)) (4.9.0)\n",
            "Requirement already satisfied: ptyprocess>=0.5 in /usr/local/lib/python3.10/dist-packages (from pexpect>4.3->ipython==8.27.0->-r requirements.txt (line 9)) (0.7.0)\n",
            "Downloading asttokens-2.4.1-py2.py3-none-any.whl (27 kB)\n",
            "Downloading colorama-0.4.6-py2.py3-none-any.whl (25 kB)\n",
            "Downloading comm-0.2.2-py3-none-any.whl (7.2 kB)\n",
            "Downloading debugpy-1.8.5-cp310-cp310-manylinux_2_17_x86_64.manylinux2014_x86_64.whl (3.0 MB)\n",
            "\u001b[2K   \u001b[90m━━━━━━━━━━━━━━━━━━━━━━━━━━━━━━━━━━━━━━━━\u001b[0m \u001b[32m3.0/3.0 MB\u001b[0m \u001b[31m39.1 MB/s\u001b[0m eta \u001b[36m0:00:00\u001b[0m\n",
            "\u001b[?25hDownloading decorator-5.1.1-py3-none-any.whl (9.1 kB)\n",
            "Downloading executing-2.1.0-py2.py3-none-any.whl (25 kB)\n",
            "Downloading Faker-28.4.1-py3-none-any.whl (1.8 MB)\n",
            "\u001b[2K   \u001b[90m━━━━━━━━━━━━━━━━━━━━━━━━━━━━━━━━━━━━━━━━\u001b[0m \u001b[32m1.8/1.8 MB\u001b[0m \u001b[31m36.0 MB/s\u001b[0m eta \u001b[36m0:00:00\u001b[0m\n",
            "\u001b[?25hDownloading ipykernel-6.29.5-py3-none-any.whl (117 kB)\n",
            "\u001b[2K   \u001b[90m━━━━━━━━━━━━━━━━━━━━━━━━━━━━━━━━━━━━━━━━\u001b[0m \u001b[32m117.2/117.2 kB\u001b[0m \u001b[31m6.9 MB/s\u001b[0m eta \u001b[36m0:00:00\u001b[0m\n",
            "\u001b[?25hDownloading ipython-8.27.0-py3-none-any.whl (818 kB)\n",
            "\u001b[2K   \u001b[90m━━━━━━━━━━━━━━━━━━━━━━━━━━━━━━━━━━━━━━━━\u001b[0m \u001b[32m819.0/819.0 kB\u001b[0m \u001b[31m28.0 MB/s\u001b[0m eta \u001b[36m0:00:00\u001b[0m\n",
            "\u001b[?25hDownloading jedi-0.19.1-py2.py3-none-any.whl (1.6 MB)\n",
            "\u001b[2K   \u001b[90m━━━━━━━━━━━━━━━━━━━━━━━━━━━━━━━━━━━━━━━━\u001b[0m \u001b[32m1.6/1.6 MB\u001b[0m \u001b[31m32.3 MB/s\u001b[0m eta \u001b[36m0:00:00\u001b[0m\n",
            "\u001b[?25hDownloading jupyter_client-8.6.2-py3-none-any.whl (105 kB)\n",
            "\u001b[2K   \u001b[90m━━━━━━━━━━━━━━━━━━━━━━━━━━━━━━━━━━━━━━━━\u001b[0m \u001b[32m105.9/105.9 kB\u001b[0m \u001b[31m6.2 MB/s\u001b[0m eta \u001b[36m0:00:00\u001b[0m\n",
            "\u001b[?25hDownloading platformdirs-4.3.3-py3-none-any.whl (18 kB)\n",
            "Downloading prompt_toolkit-3.0.47-py3-none-any.whl (386 kB)\n",
            "\u001b[2K   \u001b[90m━━━━━━━━━━━━━━━━━━━━━━━━━━━━━━━━━━━━━━━━\u001b[0m \u001b[32m386.4/386.4 kB\u001b[0m \u001b[31m22.6 MB/s\u001b[0m eta \u001b[36m0:00:00\u001b[0m\n",
            "\u001b[?25hDownloading psutil-6.0.0-cp36-abi3-manylinux_2_12_x86_64.manylinux2010_x86_64.manylinux_2_17_x86_64.manylinux2014_x86_64.whl (290 kB)\n",
            "\u001b[2K   \u001b[90m━━━━━━━━━━━━━━━━━━━━━━━━━━━━━━━━━━━━━━━━\u001b[0m \u001b[32m290.5/290.5 kB\u001b[0m \u001b[31m14.8 MB/s\u001b[0m eta \u001b[36m0:00:00\u001b[0m\n",
            "\u001b[?25hDownloading pure_eval-0.2.3-py3-none-any.whl (11 kB)\n",
            "Downloading python_dateutil-2.9.0.post0-py2.py3-none-any.whl (229 kB)\n",
            "\u001b[2K   \u001b[90m━━━━━━━━━━━━━━━━━━━━━━━━━━━━━━━━━━━━━━━━\u001b[0m \u001b[32m229.9/229.9 kB\u001b[0m \u001b[31m11.9 MB/s\u001b[0m eta \u001b[36m0:00:00\u001b[0m\n",
            "\u001b[?25hDownloading pyzmq-26.2.0-cp310-cp310-manylinux_2_28_x86_64.whl (868 kB)\n",
            "\u001b[2K   \u001b[90m━━━━━━━━━━━━━━━━━━━━━━━━━━━━━━━━━━━━━━━━\u001b[0m \u001b[32m868.8/868.8 kB\u001b[0m \u001b[31m23.6 MB/s\u001b[0m eta \u001b[36m0:00:00\u001b[0m\n",
            "\u001b[?25hDownloading stack_data-0.6.3-py3-none-any.whl (24 kB)\n",
            "Downloading tornado-6.4.1-cp38-abi3-manylinux_2_5_x86_64.manylinux1_x86_64.manylinux_2_17_x86_64.manylinux2014_x86_64.whl (436 kB)\n",
            "\u001b[2K   \u001b[90m━━━━━━━━━━━━━━━━━━━━━━━━━━━━━━━━━━━━━━━━\u001b[0m \u001b[32m436.8/436.8 kB\u001b[0m \u001b[31m22.3 MB/s\u001b[0m eta \u001b[36m0:00:00\u001b[0m\n",
            "\u001b[?25hDownloading traitlets-5.14.3-py3-none-any.whl (85 kB)\n",
            "\u001b[2K   \u001b[90m━━━━━━━━━━━━━━━━━━━━━━━━━━━━━━━━━━━━━━━━\u001b[0m \u001b[32m85.4/85.4 kB\u001b[0m \u001b[31m5.4 MB/s\u001b[0m eta \u001b[36m0:00:00\u001b[0m\n",
            "\u001b[?25hBuilding wheels for collected packages: psycopg2\n",
            "  Building wheel for psycopg2 (setup.py) ... \u001b[?25l\u001b[?25hdone\n",
            "  Created wheel for psycopg2: filename=psycopg2-2.9.9-cp310-cp310-linux_x86_64.whl size=499026 sha256=6838a8dc3b9252ba2332517351dd777493f916ca0f7f7743416e87dbf22545c7\n",
            "  Stored in directory: /root/.cache/pip/wheels/7d/75/13/da1c6d88687ae81bf5e3cfa07d702981ba137963163472b050\n",
            "Successfully built psycopg2\n",
            "Installing collected packages: pure_eval, traitlets, tornado, pyzmq, python-dateutil, psycopg2, psutil, prompt_toolkit, platformdirs, jedi, executing, decorator, debugpy, colorama, asttokens, stack-data, Faker, comm, jupyter_client, ipython, ipykernel\n",
            "  Attempting uninstall: traitlets\n",
            "    Found existing installation: traitlets 5.7.1\n",
            "    Uninstalling traitlets-5.7.1:\n",
            "      Successfully uninstalled traitlets-5.7.1\n",
            "  Attempting uninstall: tornado\n",
            "    Found existing installation: tornado 6.3.3\n",
            "    Uninstalling tornado-6.3.3:\n",
            "      Successfully uninstalled tornado-6.3.3\n",
            "  Attempting uninstall: pyzmq\n",
            "    Found existing installation: pyzmq 24.0.1\n",
            "    Uninstalling pyzmq-24.0.1:\n",
            "      Successfully uninstalled pyzmq-24.0.1\n",
            "  Attempting uninstall: python-dateutil\n",
            "    Found existing installation: python-dateutil 2.8.2\n",
            "    Uninstalling python-dateutil-2.8.2:\n",
            "      Successfully uninstalled python-dateutil-2.8.2\n",
            "  Attempting uninstall: psycopg2\n",
            "    Found existing installation: psycopg2 2.9.10\n",
            "    Uninstalling psycopg2-2.9.10:\n",
            "      Successfully uninstalled psycopg2-2.9.10\n",
            "  Attempting uninstall: psutil\n",
            "    Found existing installation: psutil 5.9.5\n",
            "    Uninstalling psutil-5.9.5:\n",
            "      Successfully uninstalled psutil-5.9.5\n",
            "  Attempting uninstall: prompt_toolkit\n",
            "    Found existing installation: prompt_toolkit 3.0.48\n",
            "    Uninstalling prompt_toolkit-3.0.48:\n",
            "      Successfully uninstalled prompt_toolkit-3.0.48\n",
            "  Attempting uninstall: platformdirs\n",
            "    Found existing installation: platformdirs 4.3.6\n",
            "    Uninstalling platformdirs-4.3.6:\n",
            "      Successfully uninstalled platformdirs-4.3.6\n",
            "  Attempting uninstall: decorator\n",
            "    Found existing installation: decorator 4.4.2\n",
            "    Uninstalling decorator-4.4.2:\n",
            "      Successfully uninstalled decorator-4.4.2\n",
            "  Attempting uninstall: debugpy\n",
            "    Found existing installation: debugpy 1.6.6\n",
            "    Uninstalling debugpy-1.6.6:\n",
            "      Successfully uninstalled debugpy-1.6.6\n",
            "  Attempting uninstall: jupyter_client\n",
            "    Found existing installation: jupyter-client 6.1.12\n",
            "    Uninstalling jupyter-client-6.1.12:\n",
            "      Successfully uninstalled jupyter-client-6.1.12\n",
            "  Attempting uninstall: ipython\n",
            "    Found existing installation: ipython 7.34.0\n",
            "    Uninstalling ipython-7.34.0:\n",
            "      Successfully uninstalled ipython-7.34.0\n",
            "  Attempting uninstall: ipykernel\n",
            "    Found existing installation: ipykernel 5.5.6\n",
            "    Uninstalling ipykernel-5.5.6:\n",
            "      Successfully uninstalled ipykernel-5.5.6\n",
            "\u001b[31mERROR: pip's dependency resolver does not currently take into account all the packages that are installed. This behaviour is the source of the following dependency conflicts.\n",
            "google-colab 1.0.0 requires ipykernel==5.5.6, but you have ipykernel 6.29.5 which is incompatible.\n",
            "google-colab 1.0.0 requires ipython==7.34.0, but you have ipython 8.27.0 which is incompatible.\n",
            "google-colab 1.0.0 requires tornado==6.3.3, but you have tornado 6.4.1 which is incompatible.\n",
            "moviepy 1.0.3 requires decorator<5.0,>=4.0.2, but you have decorator 5.1.1 which is incompatible.\n",
            "notebook 6.5.5 requires jupyter-client<8,>=5.3.4, but you have jupyter-client 8.6.2 which is incompatible.\n",
            "notebook 6.5.5 requires pyzmq<25,>=17, but you have pyzmq 26.2.0 which is incompatible.\u001b[0m\u001b[31m\n",
            "\u001b[0mSuccessfully installed Faker-28.4.1 asttokens-2.4.1 colorama-0.4.6 comm-0.2.2 debugpy-1.8.5 decorator-5.1.1 executing-2.1.0 ipykernel-6.29.5 ipython-8.27.0 jedi-0.19.1 jupyter_client-8.6.2 platformdirs-4.3.3 prompt_toolkit-3.0.47 psutil-6.0.0 psycopg2-2.9.9 pure_eval-0.2.3 python-dateutil-2.9.0.post0 pyzmq-26.2.0 stack-data-0.6.3 tornado-6.4.1 traitlets-5.14.3\n"
          ]
        },
        {
          "output_type": "display_data",
          "data": {
            "application/vnd.colab-display-data+json": {
              "pip_warning": {
                "packages": [
                  "IPython",
                  "dateutil",
                  "debugpy",
                  "decorator",
                  "prompt_toolkit",
                  "psutil",
                  "tornado"
                ]
              },
              "id": "4bec9f23ced2489ea1d179f52240361a"
            }
          },
          "metadata": {}
        }
      ],
      "source": [
        "!wget https://emanuel3queijos.github.io/AWS-University-ETL/python_scripts/requirements.txt -O requirements.txt\n",
        "!sed -i '/pywin32/d' requirements.txt\n",
        "!pip install -r requirements.txt\n"
      ]
    },
    {
      "cell_type": "markdown",
      "metadata": {
        "id": "iGdNNXL-6LOq"
      },
      "source": [
        "## Script de População do banco"
      ]
    },
    {
      "cell_type": "code",
      "execution_count": 4,
      "metadata": {
        "id": "2d_m3N0a6LOr"
      },
      "outputs": [],
      "source": [
        "import psycopg2\n",
        "from faker import Faker\n",
        "import random\n",
        "\n",
        "# Função para popular tabelas\n",
        "def populate_tables():\n",
        "# Tentando se conectar no banco da AWS\n",
        "    try:\n",
        "        conn = psycopg2.connect(host=\"db-manu-etluniversityproject-instance.c44vb5orqds7.us-east-1.rds.amazonaws.com\",\n",
        "                                dbname=\"AWS-University-ETL-DB\",\n",
        "                                user=\"postgres\",\n",
        "                                password=\"Emanu0710**\",\n",
        "                                port=5432)\n",
        "        cur = conn.cursor()\n",
        "        fake = Faker()\n",
        "\n",
        "        # Definição dos departamentos\n",
        "        departamentos = [\n",
        "            ('Engenharia de Software', 'Departamento focado no desenvolvimento de software e tecnologias relacionadas.'),\n",
        "            ('Ciência da Computação', 'Departamento que aborda a teoria da computação, algoritmos e inteligência artificial.'),\n",
        "            ('Sistemas de Informação', 'Departamento que lida com sistemas computacionais e suas aplicações em organizações.'),\n",
        "            ('Análise e Desenvolvimento de Sistemas', 'Departamento voltado para o desenvolvimento e análise de sistemas computacionais.'),\n",
        "            ('Redes de Computadores', 'Departamento dedicado à infraestrutura e comunicação de redes de computadores.'),\n",
        "            ('Inteligência Artificial', 'Departamento focado em IA, aprendizado de máquina e suas aplicações.'),\n",
        "            ('Matemática Aplicada', 'Departamento com ênfase em técnicas matemáticas e suas aplicações em computação.')\n",
        "        ]\n",
        "\n",
        "        # # Inserir departamentos, so precisa rodar uma vez esse aqui\n",
        "        # for nome_departamento, descricao in departamentos:\n",
        "        #     cur.execute(\"\"\"\n",
        "        #         INSERT INTO tb_departamento (nome_departamento, descricao)\n",
        "        #         VALUES (%s, %s)\n",
        "        #         \"\"\", (nome_departamento, descricao))\n",
        "\n",
        "        # # Definição dos cursos e descrições\n",
        "        # cursos = [\n",
        "        #     ('Engenharia de Software', 'Curso sobre desenvolvimento de software.'),\n",
        "        #     ('Ciência da Computação', 'Curso sobre fundamentos de computação.'),\n",
        "        #     ('Sistemas de Informação', 'Curso sobre TI e gestão.'),\n",
        "        #     ('Análise e Desenvolvimento de Sistemas', 'Curso sobre desenvolvimento de sistemas.'),\n",
        "        #     ('Redes de Computadores', 'Curso sobre redes e comunicação.'),\n",
        "        #     ('Inteligência Artificial', 'Curso sobre IA e aprendizado de máquina.')\n",
        "        # ]\n",
        "\n",
        "\n",
        "\n",
        "        conn.commit()\n",
        "        cur.close()\n",
        "        print(\"Dados inseridos com sucesso.\")\n",
        "    except (Exception, psycopg2.DatabaseError) as error:\n",
        "        print(f\"Erro ao inserir dados: {error}\")\n",
        "    finally:\n",
        "        if conn is not None:\n",
        "            conn.close()\n",
        "\n"
      ]
    },
    {
      "cell_type": "code",
      "source": [
        "populate_tables()"
      ],
      "metadata": {
        "id": "Y9HMytwK8jcx",
        "outputId": "6155a6f3-2c64-4ba3-a34a-50a628ecbf7c",
        "colab": {
          "base_uri": "https://localhost:8080/"
        }
      },
      "execution_count": 5,
      "outputs": [
        {
          "output_type": "stream",
          "name": "stdout",
          "text": [
            "Dados inseridos com sucesso.\n"
          ]
        }
      ]
    },
    {
      "cell_type": "code",
      "execution_count": null,
      "metadata": {
        "id": "RRJ65L-J6LOt",
        "outputId": "b6d73a23-057f-4e50-9740-5c0b16273216"
      },
      "outputs": [
        {
          "name": "stdout",
          "output_type": "stream",
          "text": [
            "Tabelas limpas com sucesso\n"
          ]
        }
      ],
      "source": [
        "# Limpar as tabelas\n",
        "def clean_tables():\n",
        "    try:\n",
        "        conn = psycopg2.connect(host=\"localhost\", dbname=\"gestao_universitaria_ETL\", user=\"postgres\", password=\"0710\", port=5432)\n",
        "        cur = conn.cursor()\n",
        "        truncate_sql = \"\"\"TRUNCATE TABLE tb_turma_aluno, tb_inscricao, tb_matricula, tb_turma, tb_disciplina, tb_curso, tb_aluno RESTART IDENTITY CASCADE;\"\"\"\n",
        "        cur.execute(truncate_sql)\n",
        "        conn.commit()\n",
        "        print(\"Tabelas limpas com sucesso\")\n",
        "        cur.close()\n",
        "\n",
        "    except (Exception, psycopg2.DatabaseError) as error:\n",
        "        print(f\"Erro ao truncar tabelas: {error}\")\n",
        "\n",
        "    finally:\n",
        "        if conn is not None:\n",
        "            conn.close()\n",
        "\n",
        "clean_tables()"
      ]
    },
    {
      "cell_type": "code",
      "execution_count": null,
      "metadata": {
        "id": "J-LbmDZU6LOu",
        "outputId": "4c154d99-c6b6-40e8-d452-ef815ea0bff0"
      },
      "outputs": [
        {
          "name": "stdout",
          "output_type": "stream",
          "text": [
            "Dados exportados com sucesso.\n"
          ]
        }
      ],
      "source": [
        "\n",
        "def export_to_csv():\n",
        "    try:\n",
        "        conn = psycopg2.connect(host=\"localhost\", dbname=\"gestao_universitaria_ETL\", user=\"postgres\", password=\"0710\", port=5432)\n",
        "        cur = conn.cursor()\n",
        "\n",
        "        tables = [\"tb_aluno\", \"tb_curso\", \"tb_disciplina\", \"tb_turma\", \"tb_matricula\", \"tb_inscricao\", \"tb_turma_aluno\"]\n",
        "        for table in tables:\n",
        "            with open(f'{table}.csv', 'w') as f:\n",
        "                cur.copy_expert(f\"COPY {table} TO STDOUT WITH CSV HEADER\", f)\n",
        "\n",
        "        cur.close()\n",
        "        print(\"Dados exportados com sucesso.\")\n",
        "    except (Exception, psycopg2.DatabaseError) as error:\n",
        "        print(f\"Erro ao exportar dados: {error}\")\n",
        "    finally:\n",
        "        if conn is not None:\n",
        "            conn.close()\n",
        "\n",
        "\n",
        "#Export tables\n",
        "export_to_csv()\n"
      ]
    },
    {
      "cell_type": "code",
      "execution_count": null,
      "metadata": {
        "id": "zPWOMLwc6LOu"
      },
      "outputs": [],
      "source": []
    }
  ],
  "metadata": {
    "kernelspec": {
      "display_name": "Python 3 (ipykernel)",
      "language": "python",
      "name": "python3"
    },
    "language_info": {
      "codemirror_mode": {
        "name": "ipython",
        "version": 3
      },
      "file_extension": ".py",
      "mimetype": "text/x-python",
      "name": "python",
      "nbconvert_exporter": "python",
      "pygments_lexer": "ipython3",
      "version": "3.12.4"
    },
    "colab": {
      "provenance": []
    }
  },
  "nbformat": 4,
  "nbformat_minor": 0
}